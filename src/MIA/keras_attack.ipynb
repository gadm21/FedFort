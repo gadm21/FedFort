{
 "cells": [
  {
   "cell_type": "code",
   "execution_count": null,
   "metadata": {},
   "outputs": [],
   "source": []
  },
  {
   "cell_type": "markdown",
   "metadata": {},
   "source": [
    "# Imports"
   ]
  },
  {
   "cell_type": "code",
   "execution_count": 1,
   "metadata": {},
   "outputs": [
    {
     "name": "stderr",
     "output_type": "stream",
     "text": [
      "/Users/gadmohamed/miniforge3/envs/fl/lib/python3.9/site-packages/scipy/__init__.py:146: UserWarning: A NumPy version >=1.16.5 and <1.23.0 is required for this version of SciPy (detected version 1.25.2\n",
      "  warnings.warn(f\"A NumPy version >={np_minversion} and <{np_maxversion}\"\n"
     ]
    }
   ],
   "source": [
    "# from utils.seed import seed_everything\n",
    "from utils.load_config import load_config\n",
    "import pandas as pd\n",
    "import numpy as np\n",
    "from matplotlib import pyplot as plt\n",
    "import argparse \n",
    "\n",
    "# get metric and train, test support\n",
    "from sklearn.model_selection import train_test_split\n",
    "from sklearn.metrics import precision_recall_fscore_support, roc_curve, auc\n",
    "\n",
    "# get classifier models\n",
    "from sklearn.ensemble import RandomForestClassifier\n",
    "from sklearn.linear_model import RidgeClassifier\n",
    "import xgboost as xgb\n",
    "# import lightgbm as lgb\n",
    "from catboost import CatBoostClassifier\n",
    "import os \n",
    "from os.path import join\n",
    "from tensorflow.keras.models import load_model\n",
    "from keras_utils import CustomDropout\n",
    "import tensorflow as tf\n",
    "\n",
    "from tensorflow.keras.models import Sequential\n",
    "from tensorflow.keras.layers import Dense, Dropout\n",
    "\n",
    "# load config\n",
    "config_path = \"keras_config.yaml\"\n",
    "CFG = load_config(\"CFG\", config_path)\n",
    "CFG_ATTACK = load_config(\"CFG_ATTACK\", config_path)"
   ]
  },
  {
   "cell_type": "markdown",
   "metadata": {},
   "source": [
    "# Functions"
   ]
  },
  {
   "cell_type": "code",
   "execution_count": 2,
   "metadata": {},
   "outputs": [],
   "source": [
    "\n",
    "\n",
    "def update_args_with_dict(args, dict) :\n",
    "    args_dict = vars(args)\n",
    "    args_dict.update(dict)\n",
    "    args = argparse.Namespace(**args_dict)\n",
    "    return args\n",
    "\n",
    "def cifar10_data() : \n",
    "    cifar_train, cifar_test = tf.keras.datasets.cifar10.load_data()\n",
    "    cifar_class_labels = ['airplane', 'automobile', 'bird', 'cat', 'deer', 'dog', 'frog', 'horse', 'ship', 'truck']\n",
    "    input_shape = cifar_train[0].shape[1:]\n",
    "    num_classes = len(cifar_class_labels)\n",
    "    dataset_metadata = {'input_shape': input_shape, 'num_classes': num_classes, 'class_labels': cifar_class_labels}\n",
    "    return cifar_train, cifar_test, dataset_metadata\n",
    "\n",
    "\n",
    "def get_data(dataset) : \n",
    "    if dataset == 'cifar10' : \n",
    "        return cifar10_data()\n",
    "    else :\n",
    "        raise ValueError(\"Dataset not supported\")\n",
    "\n",
    "\n",
    "def get_attack_data(dataset, alg = 'central') : \n",
    "    train_data, test_data, metadata = get_data(dataset)\n",
    "\n",
    "    train_data = (np.array(train_data[0] / 255, dtype=np.float32), tf.keras.utils.to_categorical(train_data[1]))\n",
    "    if alg == 'fedakd' :\n",
    "        # proxy_limit = args.proxy_data_size\n",
    "        proxy_limit = 1000\n",
    "        proxy_data = train_data[0][:proxy_limit] \n",
    "        train_data = (train_data[0][proxy_limit:], train_data[1][proxy_limit:])\n",
    "        \n",
    "    test_data = (np.array(test_data[0] / 255, dtype=np.float32), tf.keras.utils.to_categorical(test_data[1]))\n",
    "    if alg == 'fedakd' : return train_data, test_data, proxy_data\n",
    "    else: return train_data, test_data\n",
    "\n",
    "\n",
    "\n",
    "def get_nn_attack_model(in_features, compile_model=True):\n",
    "    \"\"\"\n",
    "    Constructs a neural network for Membership Inference Attack (MIA).\n",
    "    \n",
    "    Parameters:\n",
    "        - in_features (int): The number of input features.\n",
    "        - num_classes (int): The number of classes in the main model (used to determine the input shape).\n",
    "        - compile_model (bool): Whether to compile the model.\n",
    "\n",
    "    Returns:\n",
    "        - keras.models.Model: The constructed attack model.\n",
    "    \"\"\"\n",
    "    \n",
    "    # The input to the attack model is typically the softmax/logits from the target model.\n",
    "    # So, the input shape is (num_classes,)\n",
    "    model = Sequential()\n",
    "    model.add(Dense(800, activation='relu', input_shape=(in_features,)))\n",
    "    model.add(Dropout(0.1))\n",
    "    model.add(Dense(200, activation='tanh'))\n",
    "    model.add(Dense(30, activation='relu'))\n",
    "    model.add(Dropout(0.1))\n",
    "    model.add(Dense(1, activation='sigmoid'))  # Binary classification: in-training set or not.\n",
    "    \n",
    "    if compile_model:\n",
    "        model.compile(tf.keras.optimizers.Adam(learning_rate=0.01),\n",
    "                      loss='binary_crossentropy',\n",
    "                      metrics=['accuracy'])\n",
    "\n",
    "    return model\n"
   ]
  },
  {
   "cell_type": "markdown",
   "metadata": {},
   "source": [
    "# Train attack"
   ]
  },
  {
   "cell_type": "code",
   "execution_count": 3,
   "metadata": {},
   "outputs": [
    {
     "name": "stderr",
     "output_type": "stream",
     "text": [
      "2023-08-12 21:08:23.680184: I tensorflow/core/common_runtime/pluggable_device/pluggable_device_factory.cc:306] Could not identify NUMA node of platform GPU ID 0, defaulting to 0. Your kernel may not have been built with NUMA support.\n",
      "2023-08-12 21:08:23.680451: I tensorflow/core/common_runtime/pluggable_device/pluggable_device_factory.cc:272] Created TensorFlow device (/job:localhost/replica:0/task:0/device:GPU:0 with 0 MB memory) -> physical PluggableDevice (device: 0, name: METAL, pci bus id: <undefined>)\n"
     ]
    },
    {
     "name": "stdout",
     "output_type": "stream",
     "text": [
      "Metal device set to: Apple M1\n",
      "\n",
      "systemMemory: 8.00 GB\n",
      "maxCacheSize: 2.67 GB\n",
      "\n",
      "X shape: (4800000, 10)\n",
      "y shape: (4800000, 1)\n",
      "x_train shape: (3840000, 10)\n",
      "x_test shape: (960000, 10)\n",
      "y_train shape: (3840000, 1)\n",
      "y_test shape: (960000, 1)\n"
     ]
    }
   ],
   "source": [
    "\n",
    "\n",
    "X, y = pd.DataFrame(), pd.DataFrame()\n",
    "\n",
    "# for i in range(10) : \n",
    "for i in range(50) : \n",
    "\n",
    "    this_shadow_model_path = join(CFG_ATTACK.shadow_models_path, f\"shadow_model_{i}\")\n",
    "    \n",
    "    model_path = join(this_shadow_model_path, 'best_model.h5')\n",
    "    attack_dset_path = join(this_shadow_model_path, f'attack_dset_shadow_{i}.csv')\n",
    "\n",
    "    model = load_model(model_path,  custom_objects={'CustomDropout': CustomDropout})\n",
    "    df_shadow = pd.read_csv(attack_dset_path)\n",
    "\n",
    "    tmp_y = df_shadow[\"is_member\"]\n",
    "    tmp_X = df_shadow.drop([\"is_member\"], axis=1)\n",
    "\n",
    "    X = pd.concat([X, tmp_X])\n",
    "    y = pd.concat([y, tmp_y])\n",
    "\n",
    "# to numpy\n",
    "X = X.to_numpy()\n",
    "y = y.to_numpy()\n",
    "\n",
    "\n",
    "print(\"X shape:\", X.shape)\n",
    "print(\"y shape:\", y.shape)\n",
    "\n",
    "X_train, X_test, y_train, y_test = train_test_split(\n",
    "    X, y, test_size=CFG_ATTACK.test_size, random_state=CFG.seed\n",
    ")\n",
    "\n",
    "print(\"x_train shape:\", X_train.shape)\n",
    "print(\"x_test shape:\", X_test.shape)\n",
    "print(\"y_train shape:\", y_train.shape)\n",
    "print(\"y_test shape:\", y_test.shape)\n",
    "\n"
   ]
  },
  {
   "cell_type": "code",
   "execution_count": 4,
   "metadata": {},
   "outputs": [
    {
     "name": "stdout",
     "output_type": "stream",
     "text": [
      "Epoch 1/20\n"
     ]
    },
    {
     "name": "stderr",
     "output_type": "stream",
     "text": [
      "2023-08-12 21:08:34.853416: W tensorflow/core/platform/profile_utils/cpu_utils.cc:128] Failed to get CPU frequency: 0 Hz\n",
      "2023-08-12 21:08:35.250190: I tensorflow/core/grappler/optimizers/custom_graph_optimizer_registry.cc:114] Plugin optimizer for device_type GPU is enabled.\n"
     ]
    },
    {
     "name": "stdout",
     "output_type": "stream",
     "text": [
      "14995/15000 [============================>.] - ETA: 0s - loss: 0.6934 - accuracy: 0.5003"
     ]
    },
    {
     "name": "stderr",
     "output_type": "stream",
     "text": [
      "2023-08-12 21:10:09.019942: I tensorflow/core/grappler/optimizers/custom_graph_optimizer_registry.cc:114] Plugin optimizer for device_type GPU is enabled.\n"
     ]
    },
    {
     "name": "stdout",
     "output_type": "stream",
     "text": [
      "15000/15000 [==============================] - 103s 7ms/step - loss: 0.6934 - accuracy: 0.5003 - val_loss: 0.6932 - val_accuracy: 0.5002\n",
      "Epoch 2/20\n",
      "15000/15000 [==============================] - 104s 7ms/step - loss: 0.6932 - accuracy: 0.5002 - val_loss: 0.6932 - val_accuracy: 0.4998\n",
      "Epoch 3/20\n",
      "15000/15000 [==============================] - 102s 7ms/step - loss: 0.6932 - accuracy: 0.5000 - val_loss: 0.6932 - val_accuracy: 0.5002\n",
      "Epoch 4/20\n",
      "15000/15000 [==============================] - 102s 7ms/step - loss: 0.6932 - accuracy: 0.5000 - val_loss: 0.6932 - val_accuracy: 0.5002\n",
      "Epoch 5/20\n",
      "15000/15000 [==============================] - 102s 7ms/step - loss: 0.6932 - accuracy: 0.5004 - val_loss: 0.6932 - val_accuracy: 0.5002\n",
      "Epoch 6/20\n",
      "15000/15000 [==============================] - 102s 7ms/step - loss: 0.6932 - accuracy: 0.4996 - val_loss: 0.6931 - val_accuracy: 0.5002\n",
      "Epoch 7/20\n",
      "15000/15000 [==============================] - 105s 7ms/step - loss: 0.6932 - accuracy: 0.4999 - val_loss: 0.6932 - val_accuracy: 0.4998\n",
      "Epoch 8/20\n",
      "15000/15000 [==============================] - 107s 7ms/step - loss: 0.6932 - accuracy: 0.4997 - val_loss: 0.6932 - val_accuracy: 0.5002\n",
      "Epoch 9/20\n",
      "15000/15000 [==============================] - 107s 7ms/step - loss: 0.6932 - accuracy: 0.5005 - val_loss: 0.6933 - val_accuracy: 0.4998\n",
      "Epoch 10/20\n",
      "15000/15000 [==============================] - 108s 7ms/step - loss: 0.6932 - accuracy: 0.5002 - val_loss: 0.6932 - val_accuracy: 0.5002\n",
      "Epoch 11/20\n",
      "15000/15000 [==============================] - 104s 7ms/step - loss: 0.6932 - accuracy: 0.5002 - val_loss: 0.6933 - val_accuracy: 0.5002\n",
      "Epoch 12/20\n",
      "15000/15000 [==============================] - 103s 7ms/step - loss: 0.6932 - accuracy: 0.5000 - val_loss: 0.6932 - val_accuracy: 0.5002\n",
      "Epoch 13/20\n",
      "15000/15000 [==============================] - 105s 7ms/step - loss: 0.6932 - accuracy: 0.4999 - val_loss: 0.6931 - val_accuracy: 0.5002\n",
      "Epoch 14/20\n",
      "15000/15000 [==============================] - 104s 7ms/step - loss: 0.6932 - accuracy: 0.4998 - val_loss: 0.6933 - val_accuracy: 0.5002\n",
      "Epoch 15/20\n",
      "15000/15000 [==============================] - 155s 10ms/step - loss: 0.6932 - accuracy: 0.4999 - val_loss: 0.6932 - val_accuracy: 0.5002\n",
      "Epoch 16/20\n",
      "15000/15000 [==============================] - 181s 12ms/step - loss: 0.6932 - accuracy: 0.5003 - val_loss: 0.6932 - val_accuracy: 0.4998\n",
      "Epoch 17/20\n",
      "15000/15000 [==============================] - 180s 12ms/step - loss: 0.6932 - accuracy: 0.4997 - val_loss: 0.6932 - val_accuracy: 0.4998\n",
      "Epoch 18/20\n",
      "15000/15000 [==============================] - 180s 12ms/step - loss: 0.6932 - accuracy: 0.5002 - val_loss: 0.6932 - val_accuracy: 0.4998\n",
      "Epoch 19/20\n",
      "15000/15000 [==============================] - 179s 12ms/step - loss: 0.6932 - accuracy: 0.5002 - val_loss: 0.6936 - val_accuracy: 0.4998\n",
      "Epoch 20/20\n",
      "15000/15000 [==============================] - 196s 13ms/step - loss: 0.6932 - accuracy: 0.4997 - val_loss: 0.6932 - val_accuracy: 0.4998\n"
     ]
    },
    {
     "data": {
      "text/plain": [
       "<keras.callbacks.History at 0x17bc14190>"
      ]
     },
     "execution_count": 4,
     "metadata": {},
     "output_type": "execute_result"
    }
   ],
   "source": [
    "\n",
    "# model = xgb.XGBClassifier(n_estimators=CFG_ATTACK.n_estimators, n_jobs=-1, random_state=CFG.seed)\n",
    "# model = lgb.LGBMClassifier(n_estimators=CFG_ATTACK.n_estimators, n_jobs=-1, random_state=CFG.seed)\n",
    "model = get_nn_attack_model(in_features = X_train.shape[1], compile_model = True)\n",
    "# model = CatBoostClassifier(\n",
    "#     iterations=100,\n",
    "#     depth=4,\n",
    "#     learning_rate=CFG_ATTACK.learning_rate,\n",
    "#     loss_function=\"Logloss\",\n",
    "#     verbose=True,\n",
    "# )  # https://catboost.ai/en/docs/concepts/loss-functions-classification\n",
    "\n",
    "model.fit(X_train, y_train, validation_data = (X_test, y_test), batch_size = 256, epochs = 20, verbose = 1)\n",
    "\n"
   ]
  },
  {
   "cell_type": "markdown",
   "metadata": {},
   "source": [
    "# Test atttack"
   ]
  },
  {
   "cell_type": "markdown",
   "metadata": {},
   "source": []
  },
  {
   "cell_type": "code",
   "execution_count": null,
   "metadata": {},
   "outputs": [],
   "source": [
    "accuracy = model.score(X_test, y_test)\n",
    "precision, recall, f1_score, _ = precision_recall_fscore_support(\n",
    "    y_test, model.predict(X_test), average=\"binary\"\n",
    ")\n",
    "print(\"accuracy:\", accuracy)\n",
    "print(\"precision:\", precision)\n",
    "print(\"recall:\", recall)\n",
    "print(\"f1_score:\", f1_score)\n",
    "\n",
    "fpr, tpr, thresholds = roc_curve(y_test, model.predict_proba(X_test)[:, 1])\n",
    "print(\"mean fpr:\", np.mean(fpr))\n",
    "print(\"mean tpr:\", np.mean(tpr))"
   ]
  },
  {
   "cell_type": "code",
   "execution_count": null,
   "metadata": {},
   "outputs": [],
   "source": [
    "train_data, test_data = get_attack_data(dataset = 'cifar10', alg = 'fedavg')\n",
    "train_data[0].shape, test_data[0].shape, train_data[1].shape, test_data[1].shape"
   ]
  },
  {
   "cell_type": "code",
   "execution_count": null,
   "metadata": {},
   "outputs": [],
   "source": [
    "model_trained_path = '/Users/gadmohamed/Desktop/live repos/FedFort/src/results/cifar10_fedavg_True_07_08_2023_00_32_28'\n",
    "\n",
    "train_preds = join(model_trained_path, 'epoch_60', 'train_preds.npy')\n",
    "test_preds = join(model_trained_path, 'epoch_60', 'test_preds.npy')\n",
    "\n",
    "train_preds = np.load(train_preds)\n",
    "test_preds = np.load(test_preds)\n",
    "perm = np.load(join(model_trained_path, 'perm.npy'))\n",
    "print(perm.shape, train_preds.shape, test_preds.shape)\n",
    "\n",
    "n_clients = 10 \n",
    "local_size = 500 \n",
    "train_limit = n_clients * local_size\n",
    "small_train_data = (train_data[0][perm][:train_limit], train_data[1][perm][:train_limit])\n",
    "\n",
    "df_member = pd.DataFrame(train_preds) \n",
    "df_member[\"is_member\"] = 1\n",
    "df_nonmember = pd.DataFrame(test_preds)\n",
    "df_nonmember[\"is_member\"] = 0\n",
    "df_attack_dset = pd.concat([df_member, df_nonmember])\n",
    "\n",
    "\n",
    "df_attack_dset.shape"
   ]
  },
  {
   "cell_type": "code",
   "execution_count": null,
   "metadata": {},
   "outputs": [],
   "source": [
    "attack_model = CatBoostClassifier()\n",
    "attack_model.load_model(CFG_ATTACK.attack_model_path)"
   ]
  }
 ],
 "metadata": {
  "kernelspec": {
   "display_name": "Python 3",
   "language": "python",
   "name": "python3"
  },
  "language_info": {
   "codemirror_mode": {
    "name": "ipython",
    "version": 3
   },
   "file_extension": ".py",
   "mimetype": "text/x-python",
   "name": "python",
   "nbconvert_exporter": "python",
   "pygments_lexer": "ipython3",
   "version": "3.9.13"
  },
  "orig_nbformat": 4
 },
 "nbformat": 4,
 "nbformat_minor": 2
}
